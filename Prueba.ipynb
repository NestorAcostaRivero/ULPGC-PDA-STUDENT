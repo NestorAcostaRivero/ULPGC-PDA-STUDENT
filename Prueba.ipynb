{
 "cells": [
  {
   "cell_type": "markdown",
   "id": "a2904e19-d947-4c1d-a760-111c433436e1",
   "metadata": {},
   "source": [
    "# Prueba 1\n",
    "\n",
    "Esta es una **prueba** que estamos haciendo en clase.\n",
    "\n",
    "Cuánto me gusta el *Python*. Me gusta porque:\n",
    "- Es gratuito\n",
    "- Y es potente"
   ]
  },
  {
   "cell_type": "code",
   "execution_count": 2,
   "id": "814e1a12-aa2e-4e88-9597-ec5e79c9f156",
   "metadata": {},
   "outputs": [
    {
     "name": "stdout",
     "output_type": "stream",
     "text": [
      "<class 'module'>\n"
     ]
    }
   ],
   "source": [
    "from PIL import Image\n",
    "\n",
    "print(type(Image)) # Objeto de clase module"
   ]
  },
  {
   "cell_type": "code",
   "execution_count": 4,
   "id": "95d14e8f-1c2e-40ca-8aba-32ebaa1635aa",
   "metadata": {},
   "outputs": [
    {
     "name": "stdout",
     "output_type": "stream",
     "text": [
      "<class 'str'>\n",
      "1626279454080\n",
      "<class 'PIL.PngImagePlugin.PngImageFile'>\n",
      "1626275383616\n"
     ]
    }
   ],
   "source": [
    "file = 'images/chinche_L.png'\n",
    "print(type(file))\n",
    "print(id(file))\n",
    "\n",
    "img  = Image.open(file)\n",
    "print(type(img))\n",
    "print(id(img))"
   ]
  },
  {
   "cell_type": "code",
   "execution_count": null,
   "id": "754b744c-2864-42da-9dae-9aaa6914d9c5",
   "metadata": {},
   "outputs": [],
   "source": []
  }
 ],
 "metadata": {
  "kernelspec": {
   "display_name": "Python 3 (ipykernel)",
   "language": "python",
   "name": "python3"
  },
  "language_info": {
   "codemirror_mode": {
    "name": "ipython",
    "version": 3
   },
   "file_extension": ".py",
   "mimetype": "text/x-python",
   "name": "python",
   "nbconvert_exporter": "python",
   "pygments_lexer": "ipython3",
   "version": "3.9.12"
  }
 },
 "nbformat": 4,
 "nbformat_minor": 5
}
